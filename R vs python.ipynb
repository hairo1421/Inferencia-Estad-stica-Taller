{
  "nbformat": 4,
  "nbformat_minor": 0,
  "metadata": {
    "colab": {
      "name": "R in python.ipynb",
      "version": "0.3.2",
      "provenance": [],
      "collapsed_sections": []
    },
    "kernelspec": {
      "name": "python3",
      "display_name": "Python 3"
    }
  },
  "cells": [
    {
      "cell_type": "markdown",
      "metadata": {
        "id": "r-kShgkgtlxv",
        "colab_type": "text"
      },
      "source": [
        "# R vs Python"
      ]
    },
    {
      "cell_type": "code",
      "metadata": {
        "id": "W93aAizAjQpU",
        "colab_type": "code",
        "colab": {}
      },
      "source": [
        "%load_ext rpy2.ipython"
      ],
      "execution_count": 0,
      "outputs": []
    },
    {
      "cell_type": "code",
      "metadata": {
        "id": "-hlbiM4Mjxx-",
        "colab_type": "code",
        "outputId": "694627a5-360d-4607-dcdd-f0f5943afe68",
        "colab": {
          "base_uri": "https://localhost:8080/",
          "height": 50
        }
      },
      "source": [
        "%%R\n",
        "system.time({\n",
        "    n <- 5000\n",
        "    A <- matrix(runif(n^2), ncol = n)\n",
        "    invA <- solve(A)\n",
        "})\n",
        "# elapsed is the wall clock time taken to execute the functio\n",
        "\n",
        "# “User CPU time” gives the CPU time spent by the current process \n",
        "# (i.e., the current R session) and “system CPU time” gives the CPU time \n",
        "# spent by the kernel (the operating system) on behalf of the current process. \n",
        "# The operating system is used for things like opening files, doing input or output, \n",
        "# starting other processes, and looking at the system clock: operations that involve\n",
        "# resources that many processes must share. Different operating systems will have \n",
        "# different things done by the operating system."
      ],
      "execution_count": 2,
      "outputs": [
        {
          "output_type": "display_data",
          "data": {
            "text/plain": [
              "   user  system elapsed \n",
              " 21.123   0.691  11.857 \n"
            ]
          },
          "metadata": {
            "tags": []
          }
        }
      ]
    },
    {
      "cell_type": "code",
      "metadata": {
        "id": "c-UmgvdakHfT",
        "colab_type": "code",
        "colab": {}
      },
      "source": [
        "import numpy as np\n",
        "import time\n"
      ],
      "execution_count": 0,
      "outputs": []
    },
    {
      "cell_type": "code",
      "metadata": {
        "id": "4tYptH_ems_k",
        "colab_type": "code",
        "outputId": "dc498ab5-619d-4667-ede4-62aa06d9be20",
        "colab": {
          "base_uri": "https://localhost:8080/",
          "height": 50
        }
      },
      "source": [
        "%%time\n",
        "n = 5000\n",
        "A = np.random.rand(n,n)\n",
        "invA = np.linalg.inv(A)"
      ],
      "execution_count": 4,
      "outputs": [
        {
          "output_type": "stream",
          "text": [
            "CPU times: user 20.8 s, sys: 733 ms, total: 21.6 s\n",
            "Wall time: 11.8 s\n"
          ],
          "name": "stdout"
        }
      ]
    },
    {
      "cell_type": "markdown",
      "metadata": {
        "id": "7L_B2Sh2tGkA",
        "colab_type": "text"
      },
      "source": [
        "# Simulación"
      ]
    },
    {
      "cell_type": "markdown",
      "metadata": {
        "id": "6w8BgCNPuJWg",
        "colab_type": "text"
      },
      "source": [
        "En R"
      ]
    },
    {
      "cell_type": "code",
      "metadata": {
        "id": "1Id1625ouJGc",
        "colab_type": "code",
        "colab": {}
      },
      "source": [
        "%%R\n",
        "b <- 1\n",
        "sigma2_b <- 0.01 \n",
        "sigma2_f <- 0.000158\n",
        "sigma_e <- 0.0045\n",
        "n <- 80\n",
        "k <- 4\n",
        "i <- c(50:200)\n"
      ],
      "execution_count": 0,
      "outputs": []
    },
    {
      "cell_type": "code",
      "metadata": {
        "id": "7l1GwgYkuZvf",
        "colab_type": "code",
        "outputId": "5417b64d-08b9-4676-bd92-5b53a7c2a968",
        "colab": {
          "base_uri": "https://localhost:8080/",
          "height": 50
        }
      },
      "source": [
        "%%R\n",
        "system.time({\n",
        "    lambda_1 <- sapply(i, function(i) (sigma2_f*i)*((b^2)*k+sigma2_b) + sigma_e)\n",
        "    lambda_2 <- sapply(i, function(i) sigma2_f*i*sigma2_b + sigma_e)\n",
        "    lambda_3 <- sapply(i, function(i) sigma_e)\n",
        "})"
      ],
      "execution_count": 6,
      "outputs": [
        {
          "output_type": "display_data",
          "data": {
            "text/plain": [
              "   user  system elapsed \n",
              "  0.023   0.000   0.023 \n"
            ]
          },
          "metadata": {
            "tags": []
          }
        }
      ]
    },
    {
      "cell_type": "code",
      "metadata": {
        "id": "pxmtAQx9uj3o",
        "colab_type": "code",
        "outputId": "aea7723c-f6fb-461f-b3bd-170e7d040983",
        "colab": {
          "base_uri": "https://localhost:8080/",
          "height": 497
        }
      },
      "source": [
        "%%R\n",
        "library(magrittr)\n",
        "library(tidyverse)\n",
        "library(ggplot2)\n",
        "\n",
        "\n",
        "teorico <- data.frame(P = seq(50,200,1), lambda1 = lambda_1,\n",
        "                lambda2 = lambda_2,lambda3 = lambda_3)\n",
        "\n",
        "\n",
        "teorico %>%  ggplot() + geom_line(aes(x= P, y = lambda1, col=\"lambda_1\")) +\n",
        "  geom_line(aes(x= P, y = lambda2, col=\"lambda_2\")) +\n",
        "  geom_line(aes(x= P, y = lambda3, col=\"lambda_3\")) +\n",
        "  labs(title = \"Teorico\", x = \"# seguros en portafolio\" , y = \"Eigenvalues\", color = \"Lambdas\\n\") "
      ],
      "execution_count": 8,
      "outputs": [
        {
          "output_type": "display_data",
          "data": {
            "image/png": "[encoded data removed]"
          },
          "metadata": {
            "tags": []
          }
        }
      ]
    },
    {
      "cell_type": "code",
      "metadata": {
        "id": "RcLAZwodu0lY",
        "colab_type": "code",
        "outputId": "c0dd7061-2390-4738-b8b2-407705607cc9",
        "colab": {
          "base_uri": "https://localhost:8080/",
          "height": 50
        }
      },
      "source": [
        "%%R\n",
        "##################\n",
        "# Parámetros\n",
        "##################\n",
        "b = 1.0 \n",
        "k = 4.0\n",
        "sigma2_b = 0.01\n",
        "sigma2_f = 0.000158\n",
        "sigma2_e = 0.0045\n",
        "n = 80\n",
        "p = range(50,201)\n",
        "\n",
        "system.time({\n",
        "Matriz <- matrix(0L, length(seq(50,200,1)), 5)\n",
        "LOWER <- matrix(0L, length(seq(50,200,1)), 5)\n",
        "UPPER <- matrix(0L, length(seq(50,200,1)), 5)\n",
        "for(i in seq(50,200,1)){\n",
        "  R_ <- matrix(0L, 100, 5)\n",
        "  for(j in 1:100){\n",
        "    F_ <- matrix( rnorm(n*k,mean=0,sd= sigma2_f %>% sqrt), n, k) \n",
        "    L <- matrix( rnorm(i*k,mean=b,sd= sigma2_b %>% sqrt), i, k)\n",
        "    E <- matrix( rnorm(i*n,mean=0,sd= sigma_e %>% sqrt), i, n)\n",
        "    R <- L%*%t(F_) + E\n",
        "    Sigma <- (R%*%t(R))/n\n",
        "    Valores <- Sigma %>% eigen()\n",
        "    valores_propios <- sort(Valores$values, decreasing = TRUE)[1:5]\n",
        "    R_[j,] <- valores_propios\n",
        "    \n",
        "  }\n",
        "  Low <-  quantile(R_[,1], .25)\n",
        "  Upp <-  quantile(R_[,1], .75)\n",
        "  vp <- colMeans(R_)\n",
        "  Matriz[i-49,] <- vp\n",
        "  LOWER[i-49,] <- Low\n",
        "  UPPER[i-49,] <- Upp\n",
        "}\n",
        "})"
      ],
      "execution_count": 9,
      "outputs": [
        {
          "output_type": "display_data",
          "data": {
            "text/plain": [
              "   user  system elapsed \n",
              "137.672  91.064 114.837 \n"
            ]
          },
          "metadata": {
            "tags": []
          }
        }
      ]
    },
    {
      "cell_type": "markdown",
      "metadata": {
        "id": "HY5l8f1buG5r",
        "colab_type": "text"
      },
      "source": [
        "En Python"
      ]
    },
    {
      "cell_type": "code",
      "metadata": {
        "id": "EjpkEo9YtOPP",
        "colab_type": "code",
        "colab": {}
      },
      "source": [
        "##################\n",
        "## Brown model\n",
        "##################\n",
        "import numpy as np\n",
        "import matplotlib.pyplot as plt\n",
        "import seaborn as sns\n",
        "sns.set_style(\"darkgrid\")\n",
        "##################\n",
        "# Parámetros\n",
        "##################\n",
        "b = 1.0 \n",
        "k = 4.0\n",
        "sigma2_b = 0.01\n",
        "sigma2_f = 0.000158\n",
        "sigma2_e = 0.0045\n",
        "n = 80\n",
        "p = range(50,201)"
      ],
      "execution_count": 0,
      "outputs": []
    },
    {
      "cell_type": "code",
      "metadata": {
        "id": "-9kIjeR_tLbo",
        "colab_type": "code",
        "outputId": "ba1221e2-0b35-4777-b87d-5ed16114a9f5",
        "colab": {
          "base_uri": "https://localhost:8080/",
          "height": 50
        }
      },
      "source": [
        "%%time\n",
        "##################\n",
        "# Modelo teórico\n",
        "##################\n",
        "k = 4.\n",
        "lambda_1 = [sigma2_f*i*((1.*b**2)*1.*k+sigma2_b)+sigma2_e for i in p]\n",
        "lambda_2 = [sigma2_f*i*sigma2_b+sigma2_e for i in p]\n",
        "lambda_3 = [sigma2_e for i in p]"
      ],
      "execution_count": 11,
      "outputs": [
        {
          "output_type": "stream",
          "text": [
            "CPU times: user 83 µs, sys: 42 µs, total: 125 µs\n",
            "Wall time: 166 µs\n"
          ],
          "name": "stdout"
        }
      ]
    },
    {
      "cell_type": "code",
      "metadata": {
        "id": "mj5buYIYtWD_",
        "colab_type": "code",
        "outputId": "ea26eb30-25ec-4c20-ddf0-0bfaccca8274",
        "colab": {
          "base_uri": "https://localhost:8080/",
          "height": 312
        }
      },
      "source": [
        "plt.plot(list(p), lambda_1, label='lambda 1 teórica')\n",
        "plt.plot(list(p), lambda_2, label='lambda 2 teórica')\n",
        "plt.plot(list(p), lambda_3, label='lambda 3 teórica')\n",
        "plt.title(\"Teórico\")\n",
        "plt.xlabel(\"# de valores en portafolio\")\n",
        "plt.ylabel(\"Eigenvalues\")\n",
        "plt.legend()"
      ],
      "execution_count": 12,
      "outputs": [
        {
          "output_type": "execute_result",
          "data": {
            "text/plain": [
              "<matplotlib.legend.Legend at 0x7efe4947ed30>"
            ]
          },
          "metadata": {
            "tags": []
          },
          "execution_count": 12
        },
        {
          "output_type": "display_data",
          "data": {
            "image/png": "[encoded data removed]",
            "text/plain": [
              "<Figure size 432x288 with 1 Axes>"
            ]
          },
          "metadata": {
            "tags": []
          }
        }
      ]
    },
    {
      "cell_type": "code",
      "metadata": {
        "id": "k5S_MfEltaAR",
        "colab_type": "code",
        "colab": {}
      },
      "source": [
        "####################\n",
        "# Modelo Empírico 2\n",
        "####################\n",
        "Matriz = np.zeros((151,5), dtype=float)\n",
        "LOWER = np.zeros((151,5), dtype=float)\n",
        "UPPER = np.zeros((151,5), dtype=float)\n"
      ],
      "execution_count": 0,
      "outputs": []
    },
    {
      "cell_type": "code",
      "metadata": {
        "id": "XlS_vG0VzXz2",
        "colab_type": "code",
        "colab": {}
      },
      "source": [
        "##################\n",
        "# Parámetros\n",
        "##################\n",
        "b = 1.0 \n",
        "k = 4.0\n",
        "sigma2_b = 0.01\n",
        "sigma2_f = 0.000158\n",
        "sigma2_e = 0.0045\n",
        "n = 80\n",
        "p = range(50,201)"
      ],
      "execution_count": 0,
      "outputs": []
    },
    {
      "cell_type": "code",
      "metadata": {
        "id": "Sl4b14_ftd_B",
        "colab_type": "code",
        "outputId": "5e7c06e9-c0f4-45b1-e165-714d98e56654",
        "colab": {
          "base_uri": "https://localhost:8080/",
          "height": 50
        }
      },
      "source": [
        "%%time\n",
        "for i in p:      \n",
        "    R_ = np.zeros((100, 5))\n",
        "    for j in range(100):\n",
        "        F = np.random.normal(0, np.sqrt(sigma2_f), (n, 4))\n",
        "        L = np.random.normal(b,  np.sqrt(sigma2_b), (i, 4))\n",
        "        epsilon =  np.random.normal(0,  np.sqrt(sigma2_e), (i, n))\n",
        "        R = np.dot(L,F.T) + epsilon\n",
        "        Sigma = np.dot(R,R.T) / (1.*n)\n",
        "        v, w = np.linalg.eigh(Sigma)\n",
        "        temp = np.sort(v)\n",
        "        temp_2 = temp[::-1]\n",
        "        R_[j,:] =  temp_2[0:5]\n",
        "    Low =  np.quantile(R_[:,0], .25)\n",
        "    Upp =  np.quantile(R_[:,0], .75)\n",
        "    vp = R_.mean(axis=0)\n",
        "    Matriz[i-50,:] = vp\n",
        "    LOWER[i-50,:] = Low\n",
        "    UPPER[i-50,:] = Upp"
      ],
      "execution_count": 15,
      "outputs": [
        {
          "output_type": "stream",
          "text": [
            "CPU times: user 1min 31s, sys: 53 s, total: 2min 24s\n",
            "Wall time: 1min 12s\n"
          ],
          "name": "stdout"
        }
      ]
    },
    {
      "cell_type": "code",
      "metadata": {
        "id": "2PuYlNfGtiQD",
        "colab_type": "code",
        "outputId": "b39454af-73d3-46fd-c427-7f86a3c88d6f",
        "colab": {
          "base_uri": "https://localhost:8080/",
          "height": 312
        }
      },
      "source": [
        "plt.plot(np.asarray(list(p)), Matriz[:,0], label='lambda 1')\n",
        "plt.plot(np.asarray(list(p)), Matriz[:,1], label='lambda 2')\n",
        "plt.plot(np.asarray(list(p)), Matriz[:,2], label='lambda 3')\n",
        "plt.plot(np.asarray(list(p)), Matriz[:,3], label='lambda 4')\n",
        "plt.plot(np.asarray(list(p)), Matriz[:,4], label='lambda 5')\n",
        "plt.plot(np.asarray(list(p)), LOWER, c =\"black\")\n",
        "plt.plot(np.asarray(list(p)), UPPER, c =\"black\")\n",
        "plt.legend()\n",
        "plt.title(\"The Journal of finance\")\n",
        "plt.xlabel(\"# de valores en portafolio\")\n",
        "plt.ylabel(\"Eigenvalues\")"
      ],
      "execution_count": 16,
      "outputs": [
        {
          "output_type": "execute_result",
          "data": {
            "text/plain": [
              "Text(0, 0.5, 'Eigenvalues')"
            ]
          },
          "metadata": {
            "tags": []
          },
          "execution_count": 16
        },
        {
          "output_type": "display_data",
          "data": {
            "image/png": "[encoded data removed]",
            "text/plain": [
              "<Figure size 432x288 with 1 Axes>"
            ]
          },
          "metadata": {
            "tags": []
          }
        }
      ]
    }
  ]
}